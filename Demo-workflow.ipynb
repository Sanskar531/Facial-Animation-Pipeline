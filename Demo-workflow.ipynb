{
 "cells": [
  {
   "cell_type": "markdown",
   "metadata": {},
   "source": [
    "# Imports"
   ]
  },
  {
   "cell_type": "code",
   "execution_count": 3,
   "metadata": {},
   "outputs": [],
   "source": [
    "from Assigner import Assigner;\n",
    "from generate_blendshape import get_blendshapes;\n",
    "from preprocessing import align_mesh,generate_meshes, get_lm_as_np;\n",
    "from training_loop import process_video;\n",
    "import tensorflow as tf;\n",
    "import os;"
   ]
  },
  {
   "cell_type": "markdown",
   "metadata": {},
   "source": [
    "# Logical GPU Config for testing multi-processing"
   ]
  },
  {
   "cell_type": "code",
   "execution_count": null,
   "metadata": {},
   "outputs": [],
   "source": [
    "#Generate two different logical GPUs from One GPUs for testing.\n",
    "gpus = tf.config.list_physical_devices('GPU')\n",
    "tf.config.set_logical_device_configuration(\n",
    "      gpus[0],\n",
    "      [tf.config.LogicalDeviceConfiguration(memory_limit=8000),\n",
    "        tf.config.LogicalDeviceConfiguration(memory_limit=8000)])\n",
    "logical_gpus = tf.config.list_logical_devices('GPU')"
   ]
  },
  {
   "cell_type": "markdown",
   "metadata": {},
   "source": [
    "# Preprocessing"
   ]
  },
  {
   "cell_type": "code",
   "execution_count": 5,
   "metadata": {},
   "outputs": [],
   "source": [
    "fps, meshes = generate_meshes(\"./x.mov\");\n",
    "meshes = get_lm_as_np(meshes);"
   ]
  },
  {
   "cell_type": "code",
   "execution_count": 6,
   "metadata": {},
   "outputs": [],
   "source": [
    "blendshapes = get_blendshapes(meshes, fps);\n",
    "# Basis Mesh is the first one to be processed.\n",
    "basis_mesh = blendshapes.pop(0);\n",
    "basis_mesh, aligned_mesh = align_mesh(basis_mesh, blendshapes);"
   ]
  },
  {
   "cell_type": "code",
   "execution_count": 7,
   "metadata": {},
   "outputs": [],
   "source": [
    "_, frames_to_process = generate_meshes(\"./x.mov\");\n",
    "processing_meshes = get_lm_as_np(frames_to_process);\n",
    "_, frames = align_mesh(basis_mesh, processing_meshes);"
   ]
  },
  {
   "cell_type": "markdown",
   "metadata": {},
   "source": [
    "# Optimization"
   ]
  },
  {
   "cell_type": "code",
   "execution_count": 14,
   "metadata": {},
   "outputs": [
    {
     "name": "stdout",
     "output_type": "stream",
     "text": [
      "New Thread Spawned\n",
      "Frame No: 0 Initial Loss: 0.14475948764341082 Device: /job:localhost/replica:0/task:0/device:CPU:0\n",
      "Frame No: 0 Final Loss: 0.13766854298783782 Device: /job:localhost/replica:0/task:0/device:CPU:0\n",
      "Frame No: 8 Initial Loss: 0.06984094723535342 Device: /job:localhost/replica:0/task:0/device:CPU:0\n",
      "Frame No: 8 Final Loss: 0.06748909088954311 Device: /job:localhost/replica:0/task:0/device:CPU:0\n",
      "New Thread Spawned\n",
      "Frame No: 16 Initial Loss: 0.09244527484250895 Device: /job:localhost/replica:0/task:0/device:CPU:0\n",
      "Frame No: 16 Final Loss: 0.09005623632051725 Device: /job:localhost/replica:0/task:0/device:CPU:0\n"
     ]
    }
   ],
   "source": [
    "# An Example to show multiprocessing works with no data race problems.\n",
    "file_path_to_save_opt_vals = \"./final\"\n",
    "os.mkdir(file_path_to_save_opt_vals);\n",
    "assigner = Assigner(file_path_to_save_opt_vals, aligned_mesh, frames[:20], basis_mesh, 5500, 0.000095, 10);\n",
    "\n",
    "# Use the two logical GPUs to test multi gpu processing support.\n",
    "for i in gpus:\n",
    "  assigner.assign_frames(i);\n",
    "\n",
    "#Loop that waits for the threads to join.\n",
    "\n",
    "while not assigner.check_all_thread_dead():\n",
    "  for i in list(assigner.active_threads):\n",
    "    if assigner.active_threads[i] is not None:\n",
    "      if not assigner.active_threads[i].is_alive():\n",
    "        pass;\n",
    "      else:\n",
    "        assigner.active_threads[i].join();"
   ]
  },
  {
   "cell_type": "code",
   "execution_count": 15,
   "metadata": {},
   "outputs": [
    {
     "data": {
      "text/plain": [
       "6"
      ]
     },
     "execution_count": 15,
     "metadata": {},
     "output_type": "execute_result"
    }
   ],
   "source": [
    "import threading;\n",
    "# check number of threads after running multi processing (By default the notebook uses 10 threads)\n",
    "threading.active_count()"
   ]
  },
  {
   "cell_type": "code",
   "execution_count": 12,
   "metadata": {},
   "outputs": [
    {
     "name": "stdout",
     "output_type": "stream",
     "text": [
      "Frame No: 0 Initial Loss: 0.15073419219882941 Device: /job:localhost/replica:0/task:0/device:CPU:0\n",
      "Frame No: 0 Final Loss: 0.010296228999239607 Device: /job:localhost/replica:0/task:0/device:CPU:0\n",
      "Frame No: 8 Initial Loss: 0.11419437907836563 Device: /job:localhost/replica:0/task:0/device:CPU:0\n"
     ]
    },
    {
     "name": "stderr",
     "output_type": "stream",
     "text": [
      "c:\\Program Files\\Python37\\lib\\site-packages\\numpy\\lib\\npyio.py:528: VisibleDeprecationWarning: Creating an ndarray from ragged nested sequences (which is a list-or-tuple of lists-or-tuples-or ndarrays with different lengths or shapes) is deprecated. If you meant to do this, you must specify 'dtype=object' when creating the ndarray.\n",
      "  arr = np.asanyarray(arr)\n"
     ]
    },
    {
     "name": "stdout",
     "output_type": "stream",
     "text": [
      "Frame No: 8 Final Loss: 0.004697859183154741 Device: /job:localhost/replica:0/task:0/device:CPU:0\n",
      "Frame No: 16 Initial Loss: 0.14503467046108276 Device: /job:localhost/replica:0/task:0/device:CPU:0\n",
      "Frame No: 16 Final Loss: 0.006449758629392981 Device: /job:localhost/replica:0/task:0/device:CPU:0\n",
      "Frame No: 24 Initial Loss: 0.08483024501346627 Device: /job:localhost/replica:0/task:0/device:CPU:0\n",
      "Frame No: 24 Final Loss: 0.005397869479522928 Device: /job:localhost/replica:0/task:0/device:CPU:0\n",
      "Frame No: 32 Initial Loss: 0.07506715492713029 Device: /job:localhost/replica:0/task:0/device:CPU:0\n",
      "Frame No: 32 Final Loss: 0.0043041800445389015 Device: /job:localhost/replica:0/task:0/device:CPU:0\n",
      "Frame No: 40 Initial Loss: 0.12447258697238388 Device: /job:localhost/replica:0/task:0/device:CPU:0\n",
      "Frame No: 40 Final Loss: 0.005302786408788653 Device: /job:localhost/replica:0/task:0/device:CPU:0\n",
      "Frame No: 48 Initial Loss: 0.09294290103445835 Device: /job:localhost/replica:0/task:0/device:CPU:0\n",
      "Frame No: 48 Final Loss: 0.006096647183487565 Device: /job:localhost/replica:0/task:0/device:CPU:0\n",
      "Frame No: 56 Initial Loss: 0.08722526855014125 Device: /job:localhost/replica:0/task:0/device:CPU:0\n",
      "Frame No: 56 Final Loss: 0.0062225069985968415 Device: /job:localhost/replica:0/task:0/device:CPU:0\n",
      "Frame No: 64 Initial Loss: 0.1389057514657115 Device: /job:localhost/replica:0/task:0/device:CPU:0\n",
      "Frame No: 64 Final Loss: 0.005290967449896608 Device: /job:localhost/replica:0/task:0/device:CPU:0\n",
      "Frame No: 72 Initial Loss: 0.0853683942162552 Device: /job:localhost/replica:0/task:0/device:CPU:0\n",
      "Frame No: 72 Final Loss: 0.0068849686450314805 Device: /job:localhost/replica:0/task:0/device:CPU:0\n",
      "Frame No: 80 Initial Loss: 0.1027061202872438 Device: /job:localhost/replica:0/task:0/device:CPU:0\n",
      "Frame No: 80 Final Loss: 0.004226545237733938 Device: /job:localhost/replica:0/task:0/device:CPU:0\n",
      "Frame No: 88 Initial Loss: 0.12364330817026425 Device: /job:localhost/replica:0/task:0/device:CPU:0\n",
      "Frame No: 88 Final Loss: 0.003538885301362216 Device: /job:localhost/replica:0/task:0/device:CPU:0\n",
      "Frame No: 96 Initial Loss: 0.13354497025000936 Device: /job:localhost/replica:0/task:0/device:CPU:0\n",
      "Frame No: 96 Final Loss: 0.007709909686668177 Device: /job:localhost/replica:0/task:0/device:CPU:0\n",
      "Frame No: 104 Initial Loss: 0.09990160060737481 Device: /job:localhost/replica:0/task:0/device:CPU:0\n",
      "Frame No: 104 Final Loss: 0.005592715118674542 Device: /job:localhost/replica:0/task:0/device:CPU:0\n",
      "Frame No: 112 Initial Loss: 0.1547387616045456 Device: /job:localhost/replica:0/task:0/device:CPU:0\n",
      "Frame No: 112 Final Loss: 0.004311125739387277 Device: /job:localhost/replica:0/task:0/device:CPU:0\n",
      "Frame No: 120 Initial Loss: 0.0836113908470733 Device: /job:localhost/replica:0/task:0/device:CPU:0\n",
      "Frame No: 120 Final Loss: 0.005516998931653972 Device: /job:localhost/replica:0/task:0/device:CPU:0\n",
      "Frame No: 128 Initial Loss: 0.11412361167022395 Device: /job:localhost/replica:0/task:0/device:CPU:0\n",
      "Frame No: 128 Final Loss: 0.003424572671310506 Device: /job:localhost/replica:0/task:0/device:CPU:0\n",
      "Frame No: 136 Initial Loss: 0.09152324827243057 Device: /job:localhost/replica:0/task:0/device:CPU:0\n",
      "Frame No: 136 Final Loss: 0.004480513709634487 Device: /job:localhost/replica:0/task:0/device:CPU:0\n",
      "Frame No: 144 Initial Loss: 0.15838605318895366 Device: /job:localhost/replica:0/task:0/device:CPU:0\n",
      "Frame No: 144 Final Loss: 0.0036891202972246175 Device: /job:localhost/replica:0/task:0/device:CPU:0\n",
      "Frame No: 152 Initial Loss: 0.11971213138036335 Device: /job:localhost/replica:0/task:0/device:CPU:0\n",
      "Frame No: 152 Final Loss: 0.004496114045021611 Device: /job:localhost/replica:0/task:0/device:CPU:0\n",
      "Frame No: 160 Initial Loss: 0.12936489775840457 Device: /job:localhost/replica:0/task:0/device:CPU:0\n",
      "Frame No: 160 Final Loss: 0.004736856080538901 Device: /job:localhost/replica:0/task:0/device:CPU:0\n",
      "Frame No: 168 Initial Loss: 0.07728250943466072 Device: /job:localhost/replica:0/task:0/device:CPU:0\n",
      "Frame No: 168 Final Loss: 0.003549209880027045 Device: /job:localhost/replica:0/task:0/device:CPU:0\n",
      "Frame No: 176 Initial Loss: 0.06076903709440389 Device: /job:localhost/replica:0/task:0/device:CPU:0\n",
      "Frame No: 176 Final Loss: 0.00212117198319667 Device: /job:localhost/replica:0/task:0/device:CPU:0\n",
      "Frame No: 184 Initial Loss: 0.07924481472665525 Device: /job:localhost/replica:0/task:0/device:CPU:0\n",
      "Frame No: 184 Final Loss: 0.004473220032171054 Device: /job:localhost/replica:0/task:0/device:CPU:0\n",
      "Frame No: 192 Initial Loss: 0.08641749466060378 Device: /job:localhost/replica:0/task:0/device:CPU:0\n",
      "Frame No: 192 Final Loss: 0.003374929889108848 Device: /job:localhost/replica:0/task:0/device:CPU:0\n",
      "Frame No: 200 Initial Loss: 0.09202095283339805 Device: /job:localhost/replica:0/task:0/device:CPU:0\n",
      "Frame No: 200 Final Loss: 0.003822763653898706 Device: /job:localhost/replica:0/task:0/device:CPU:0\n",
      "Frame No: 208 Initial Loss: 0.1223223947872457 Device: /job:localhost/replica:0/task:0/device:CPU:0\n",
      "Frame No: 208 Final Loss: 0.003712800955593016 Device: /job:localhost/replica:0/task:0/device:CPU:0\n",
      "Frame No: 216 Initial Loss: 0.11426478362801927 Device: /job:localhost/replica:0/task:0/device:CPU:0\n",
      "Frame No: 216 Final Loss: 0.002450816234191414 Device: /job:localhost/replica:0/task:0/device:CPU:0\n",
      "Frame No: 224 Initial Loss: 0.14197998901558637 Device: /job:localhost/replica:0/task:0/device:CPU:0\n",
      "Frame No: 224 Final Loss: 0.002108913534998028 Device: /job:localhost/replica:0/task:0/device:CPU:0\n",
      "Frame No: 232 Initial Loss: 0.09239001115474758 Device: /job:localhost/replica:0/task:0/device:CPU:0\n",
      "Frame No: 232 Final Loss: 0.003623218613307873 Device: /job:localhost/replica:0/task:0/device:CPU:0\n",
      "Frame No: 240 Initial Loss: 0.1635448007114633 Device: /job:localhost/replica:0/task:0/device:CPU:0\n",
      "Frame No: 240 Final Loss: 0.008283408615714067 Device: /job:localhost/replica:0/task:0/device:CPU:0\n",
      "Frame No: 248 Initial Loss: 0.09130582836879843 Device: /job:localhost/replica:0/task:0/device:CPU:0\n",
      "Frame No: 248 Final Loss: 0.0033484822955111935 Device: /job:localhost/replica:0/task:0/device:CPU:0\n",
      "Frame No: 256 Initial Loss: 0.10650218458533563 Device: /job:localhost/replica:0/task:0/device:CPU:0\n",
      "Frame No: 256 Final Loss: 0.0032660008627576733 Device: /job:localhost/replica:0/task:0/device:CPU:0\n",
      "Frame No: 264 Initial Loss: 0.09491499718970288 Device: /job:localhost/replica:0/task:0/device:CPU:0\n",
      "Frame No: 264 Final Loss: 0.002769894959476135 Device: /job:localhost/replica:0/task:0/device:CPU:0\n",
      "Frame No: 272 Initial Loss: 0.11205887412804108 Device: /job:localhost/replica:0/task:0/device:CPU:0\n",
      "Frame No: 272 Final Loss: 0.002658718654696765 Device: /job:localhost/replica:0/task:0/device:CPU:0\n",
      "Frame No: 280 Initial Loss: 0.10945416616661738 Device: /job:localhost/replica:0/task:0/device:CPU:0\n",
      "Frame No: 280 Final Loss: 0.00284918869698068 Device: /job:localhost/replica:0/task:0/device:CPU:0\n",
      "Frame No: 288 Initial Loss: 0.08296220139191479 Device: /job:localhost/replica:0/task:0/device:CPU:0\n",
      "Frame No: 288 Final Loss: 0.0037420140337692523 Device: /job:localhost/replica:0/task:0/device:CPU:0\n",
      "Frame No: 296 Initial Loss: 0.10893879457516252 Device: /job:localhost/replica:0/task:0/device:CPU:0\n",
      "Frame No: 296 Final Loss: 0.003023216439817273 Device: /job:localhost/replica:0/task:0/device:CPU:0\n",
      "Frame No: 304 Initial Loss: 0.12946313151260358 Device: /job:localhost/replica:0/task:0/device:CPU:0\n",
      "Frame No: 304 Final Loss: 0.0040295699997151815 Device: /job:localhost/replica:0/task:0/device:CPU:0\n",
      "Frame No: 312 Initial Loss: 0.1116337640911696 Device: /job:localhost/replica:0/task:0/device:CPU:0\n",
      "Frame No: 312 Final Loss: 0.007127544778563296 Device: /job:localhost/replica:0/task:0/device:CPU:0\n",
      "Frame No: 320 Initial Loss: 0.1417259410560053 Device: /job:localhost/replica:0/task:0/device:CPU:0\n",
      "Frame No: 320 Final Loss: 0.003755077680731289 Device: /job:localhost/replica:0/task:0/device:CPU:0\n",
      "Frame No: 328 Initial Loss: 0.1050301702713845 Device: /job:localhost/replica:0/task:0/device:CPU:0\n",
      "Frame No: 328 Final Loss: 0.004683429090463333 Device: /job:localhost/replica:0/task:0/device:CPU:0\n",
      "Frame No: 336 Initial Loss: 0.14350888101342846 Device: /job:localhost/replica:0/task:0/device:CPU:0\n",
      "Frame No: 336 Final Loss: 0.0035380633235260655 Device: /job:localhost/replica:0/task:0/device:CPU:0\n",
      "Frame No: 344 Initial Loss: 0.1478312969656151 Device: /job:localhost/replica:0/task:0/device:CPU:0\n",
      "Frame No: 344 Final Loss: 0.004007534279065162 Device: /job:localhost/replica:0/task:0/device:CPU:0\n",
      "Frame No: 352 Initial Loss: 0.12174456109300921 Device: /job:localhost/replica:0/task:0/device:CPU:0\n",
      "Frame No: 352 Final Loss: 0.004118454970633927 Device: /job:localhost/replica:0/task:0/device:CPU:0\n",
      "Frame No: 360 Initial Loss: 0.11421928028508463 Device: /job:localhost/replica:0/task:0/device:CPU:0\n",
      "Frame No: 360 Final Loss: 0.003129115474960203 Device: /job:localhost/replica:0/task:0/device:CPU:0\n",
      "Frame No: 368 Initial Loss: 0.12964478714791894 Device: /job:localhost/replica:0/task:0/device:CPU:0\n",
      "Frame No: 368 Final Loss: 0.006271094331395531 Device: /job:localhost/replica:0/task:0/device:CPU:0\n",
      "Frame No: 376 Initial Loss: 0.10697919598609981 Device: /job:localhost/replica:0/task:0/device:CPU:0\n",
      "Frame No: 376 Final Loss: 0.0063367830867111785 Device: /job:localhost/replica:0/task:0/device:CPU:0\n",
      "Frame No: 384 Initial Loss: 0.16155938744281245 Device: /job:localhost/replica:0/task:0/device:CPU:0\n",
      "Frame No: 384 Final Loss: 0.006983688357893377 Device: /job:localhost/replica:0/task:0/device:CPU:0\n",
      "Frame No: 392 Initial Loss: 0.13855219067661914 Device: /job:localhost/replica:0/task:0/device:CPU:0\n",
      "Frame No: 392 Final Loss: 0.009836080492360429 Device: /job:localhost/replica:0/task:0/device:CPU:0\n",
      "Frame No: 400 Initial Loss: 0.129201961148361 Device: /job:localhost/replica:0/task:0/device:CPU:0\n",
      "Frame No: 400 Final Loss: 0.006066096202573999 Device: /job:localhost/replica:0/task:0/device:CPU:0\n",
      "Frame No: 408 Initial Loss: 0.11406394049120305 Device: /job:localhost/replica:0/task:0/device:CPU:0\n",
      "Frame No: 408 Final Loss: 0.004939564190252699 Device: /job:localhost/replica:0/task:0/device:CPU:0\n",
      "Frame No: 416 Initial Loss: 0.1684454853628435 Device: /job:localhost/replica:0/task:0/device:CPU:0\n",
      "Frame No: 416 Final Loss: 0.0067642394816741155 Device: /job:localhost/replica:0/task:0/device:CPU:0\n",
      "Frame No: 424 Initial Loss: 0.15215138625055968 Device: /job:localhost/replica:0/task:0/device:CPU:0\n",
      "Frame No: 424 Final Loss: 0.005430438366718602 Device: /job:localhost/replica:0/task:0/device:CPU:0\n",
      "Frame No: 432 Initial Loss: 0.1112169201872939 Device: /job:localhost/replica:0/task:0/device:CPU:0\n",
      "Frame No: 432 Final Loss: 0.007587329773019289 Device: /job:localhost/replica:0/task:0/device:CPU:0\n",
      "Frame No: 440 Initial Loss: 0.08480347101528159 Device: /job:localhost/replica:0/task:0/device:CPU:0\n",
      "Frame No: 440 Final Loss: 0.0036497716013134075 Device: /job:localhost/replica:0/task:0/device:CPU:0\n",
      "Frame No: 448 Initial Loss: 0.17943815840679186 Device: /job:localhost/replica:0/task:0/device:CPU:0\n",
      "Frame No: 448 Final Loss: 0.005073130875661019 Device: /job:localhost/replica:0/task:0/device:CPU:0\n",
      "Frame No: 456 Initial Loss: 0.12788706870106237 Device: /job:localhost/replica:0/task:0/device:CPU:0\n",
      "Frame No: 456 Final Loss: 0.004459694784371415 Device: /job:localhost/replica:0/task:0/device:CPU:0\n",
      "Frame No: 464 Initial Loss: 0.15000277354006916 Device: /job:localhost/replica:0/task:0/device:CPU:0\n",
      "Frame No: 464 Final Loss: 0.004139818541844621 Device: /job:localhost/replica:0/task:0/device:CPU:0\n",
      "Frame No: 472 Initial Loss: 0.11587399345908371 Device: /job:localhost/replica:0/task:0/device:CPU:0\n",
      "Frame No: 472 Final Loss: 0.0038550462899698875 Device: /job:localhost/replica:0/task:0/device:CPU:0\n",
      "Frame No: 480 Initial Loss: 0.09786785292353159 Device: /job:localhost/replica:0/task:0/device:CPU:0\n",
      "Frame No: 480 Final Loss: 0.004752708611867282 Device: /job:localhost/replica:0/task:0/device:CPU:0\n",
      "Frame No: 488 Initial Loss: 0.09832871867756587 Device: /job:localhost/replica:0/task:0/device:CPU:0\n",
      "Frame No: 488 Final Loss: 0.006051447156212481 Device: /job:localhost/replica:0/task:0/device:CPU:0\n",
      "Frame No: 496 Initial Loss: 0.08766996091941617 Device: /job:localhost/replica:0/task:0/device:CPU:0\n",
      "Frame No: 496 Final Loss: 0.006556649828863097 Device: /job:localhost/replica:0/task:0/device:CPU:0\n",
      "Frame No: 504 Initial Loss: 0.15863270170335572 Device: /job:localhost/replica:0/task:0/device:CPU:0\n",
      "Frame No: 504 Final Loss: 0.005183640026036677 Device: /job:localhost/replica:0/task:0/device:CPU:0\n",
      "Frame No: 512 Initial Loss: 0.09335862185572098 Device: /job:localhost/replica:0/task:0/device:CPU:0\n",
      "Frame No: 512 Final Loss: 0.007827127029394207 Device: /job:localhost/replica:0/task:0/device:CPU:0\n",
      "Frame No: 520 Initial Loss: 0.06698026672610445 Device: /job:localhost/replica:0/task:0/device:CPU:0\n",
      "Frame No: 520 Final Loss: 0.004310591320792115 Device: /job:localhost/replica:0/task:0/device:CPU:0\n",
      "Frame No: 528 Initial Loss: 0.1701819009576104 Device: /job:localhost/replica:0/task:0/device:CPU:0\n",
      "Frame No: 528 Final Loss: 0.008032198522734865 Device: /job:localhost/replica:0/task:0/device:CPU:0\n",
      "Frame No: 536 Initial Loss: 0.10574327701941648 Device: /job:localhost/replica:0/task:0/device:CPU:0\n",
      "Frame No: 536 Final Loss: 0.005635987705387267 Device: /job:localhost/replica:0/task:0/device:CPU:0\n",
      "Frame No: 544 Initial Loss: 0.09018572875156217 Device: /job:localhost/replica:0/task:0/device:CPU:0\n",
      "Frame No: 544 Final Loss: 0.006056936647406514 Device: /job:localhost/replica:0/task:0/device:CPU:0\n",
      "Frame No: 552 Initial Loss: 0.0727778717354014 Device: /job:localhost/replica:0/task:0/device:CPU:0\n",
      "Frame No: 552 Final Loss: 0.005188508742785684 Device: /job:localhost/replica:0/task:0/device:CPU:0\n",
      "Frame No: 560 Initial Loss: 0.14721467834381616 Device: /job:localhost/replica:0/task:0/device:CPU:0\n",
      "Frame No: 560 Final Loss: 0.0050128337484086636 Device: /job:localhost/replica:0/task:0/device:CPU:0\n",
      "Frame No: 568 Initial Loss: 0.11120857616860975 Device: /job:localhost/replica:0/task:0/device:CPU:0\n",
      "Frame No: 568 Final Loss: 0.0026794464272947537 Device: /job:localhost/replica:0/task:0/device:CPU:0\n",
      "Frame No: 576 Initial Loss: 0.16358243803693456 Device: /job:localhost/replica:0/task:0/device:CPU:0\n",
      "Frame No: 576 Final Loss: 0.003600191504630591 Device: /job:localhost/replica:0/task:0/device:CPU:0\n",
      "Frame No: 584 Initial Loss: 0.0852861715671908 Device: /job:localhost/replica:0/task:0/device:CPU:0\n",
      "Frame No: 584 Final Loss: 0.005809421855622432 Device: /job:localhost/replica:0/task:0/device:CPU:0\n",
      "Frame No: 592 Initial Loss: 0.14957035189715975 Device: /job:localhost/replica:0/task:0/device:CPU:0\n",
      "Frame No: 592 Final Loss: 0.0065085513012332515 Device: /job:localhost/replica:0/task:0/device:CPU:0\n",
      "Frame No: 600 Initial Loss: 0.10272031033257577 Device: /job:localhost/replica:0/task:0/device:CPU:0\n",
      "Frame No: 600 Final Loss: 0.006025172511170101 Device: /job:localhost/replica:0/task:0/device:CPU:0\n",
      "Frame No: 608 Initial Loss: 0.09800118422786014 Device: /job:localhost/replica:0/task:0/device:CPU:0\n",
      "Frame No: 608 Final Loss: 0.004766171382238261 Device: /job:localhost/replica:0/task:0/device:CPU:0\n",
      "Frame No: 616 Initial Loss: 0.1648790188251675 Device: /job:localhost/replica:0/task:0/device:CPU:0\n",
      "Frame No: 616 Final Loss: 0.00459917300401021 Device: /job:localhost/replica:0/task:0/device:CPU:0\n",
      "Frame No: 624 Initial Loss: 0.11557486486294824 Device: /job:localhost/replica:0/task:0/device:CPU:0\n",
      "Frame No: 624 Final Loss: 0.011822645583802367 Device: /job:localhost/replica:0/task:0/device:CPU:0\n",
      "Frame No: 632 Initial Loss: 0.13993045633258158 Device: /job:localhost/replica:0/task:0/device:CPU:0\n",
      "Frame No: 632 Final Loss: 0.004738198125527457 Device: /job:localhost/replica:0/task:0/device:CPU:0\n",
      "Frame No: 640 Initial Loss: 0.14522829223732103 Device: /job:localhost/replica:0/task:0/device:CPU:0\n",
      "Frame No: 640 Final Loss: 0.008766682865436932 Device: /job:localhost/replica:0/task:0/device:CPU:0\n",
      "Frame No: 648 Initial Loss: 0.10083820938844651 Device: /job:localhost/replica:0/task:0/device:CPU:0\n",
      "Frame No: 648 Final Loss: 0.00675031918727911 Device: /job:localhost/replica:0/task:0/device:CPU:0\n",
      "Frame No: 656 Initial Loss: 0.0969082069060463 Device: /job:localhost/replica:0/task:0/device:CPU:0\n",
      "Frame No: 656 Final Loss: 0.006968518542202652 Device: /job:localhost/replica:0/task:0/device:CPU:0\n",
      "Frame No: 664 Initial Loss: 0.12277578856771103 Device: /job:localhost/replica:0/task:0/device:CPU:0\n",
      "Frame No: 664 Final Loss: 0.0060547843768802845 Device: /job:localhost/replica:0/task:0/device:CPU:0\n",
      "Frame No: 672 Initial Loss: 0.12376509380574033 Device: /job:localhost/replica:0/task:0/device:CPU:0\n",
      "Frame No: 672 Final Loss: 0.0066692317644859635 Device: /job:localhost/replica:0/task:0/device:CPU:0\n",
      "Frame No: 680 Initial Loss: 0.17071232574296438 Device: /job:localhost/replica:0/task:0/device:CPU:0\n",
      "Frame No: 680 Final Loss: 0.005066915239507753 Device: /job:localhost/replica:0/task:0/device:CPU:0\n",
      "Frame No: 688 Initial Loss: 0.11217357735226412 Device: /job:localhost/replica:0/task:0/device:CPU:0\n",
      "Frame No: 688 Final Loss: 0.005723502202525843 Device: /job:localhost/replica:0/task:0/device:CPU:0\n",
      "Frame No: 696 Initial Loss: 0.0880207776082768 Device: /job:localhost/replica:0/task:0/device:CPU:0\n",
      "Frame No: 696 Final Loss: 0.005775704598434625 Device: /job:localhost/replica:0/task:0/device:CPU:0\n",
      "Frame No: 704 Initial Loss: 0.0766955733788704 Device: /job:localhost/replica:0/task:0/device:CPU:0\n",
      "Frame No: 704 Final Loss: 0.003515529830399195 Device: /job:localhost/replica:0/task:0/device:CPU:0\n",
      "Frame No: 712 Initial Loss: 0.07771720766954207 Device: /job:localhost/replica:0/task:0/device:CPU:0\n",
      "Frame No: 712 Final Loss: 0.005256609950266796 Device: /job:localhost/replica:0/task:0/device:CPU:0\n",
      "Frame No: 720 Initial Loss: 0.10712922512816267 Device: /job:localhost/replica:0/task:0/device:CPU:0\n",
      "Frame No: 720 Final Loss: 0.005740085359860474 Device: /job:localhost/replica:0/task:0/device:CPU:0\n",
      "Frame No: 728 Initial Loss: 0.08090967142444468 Device: /job:localhost/replica:0/task:0/device:CPU:0\n",
      "Frame No: 728 Final Loss: 0.005422830329151033 Device: /job:localhost/replica:0/task:0/device:CPU:0\n",
      "Frame No: 736 Initial Loss: 0.10263163541222936 Device: /job:localhost/replica:0/task:0/device:CPU:0\n",
      "Frame No: 736 Final Loss: 0.0044045665760323 Device: /job:localhost/replica:0/task:0/device:CPU:0\n",
      "Frame No: 744 Initial Loss: 0.13451855294541015 Device: /job:localhost/replica:0/task:0/device:CPU:0\n",
      "Frame No: 744 Final Loss: 0.003310348236730938 Device: /job:localhost/replica:0/task:0/device:CPU:0\n",
      "Frame No: 752 Initial Loss: 0.11275742708915687 Device: /job:localhost/replica:0/task:0/device:CPU:0\n",
      "Frame No: 752 Final Loss: 0.005264684234101476 Device: /job:localhost/replica:0/task:0/device:CPU:0\n",
      "Frame No: 760 Initial Loss: 0.17137933693948718 Device: /job:localhost/replica:0/task:0/device:CPU:0\n",
      "Frame No: 760 Final Loss: 0.0027335516815617054 Device: /job:localhost/replica:0/task:0/device:CPU:0\n",
      "Frame No: 768 Initial Loss: 0.19268775183932138 Device: /job:localhost/replica:0/task:0/device:CPU:0\n",
      "Frame No: 768 Final Loss: 0.014745333968981048 Device: /job:localhost/replica:0/task:0/device:CPU:0\n",
      "Frame No: 776 Initial Loss: 0.14356877902665485 Device: /job:localhost/replica:0/task:0/device:CPU:0\n",
      "Frame No: 776 Final Loss: 0.006422786329322291 Device: /job:localhost/replica:0/task:0/device:CPU:0\n",
      "Frame No: 784 Initial Loss: 0.09532811317789498 Device: /job:localhost/replica:0/task:0/device:CPU:0\n",
      "Frame No: 784 Final Loss: 0.007165032108590732 Device: /job:localhost/replica:0/task:0/device:CPU:0\n",
      "Frame No: 792 Initial Loss: 0.11888461792767406 Device: /job:localhost/replica:0/task:0/device:CPU:0\n"
     ]
    },
    {
     "ename": "KeyboardInterrupt",
     "evalue": "",
     "output_type": "error",
     "traceback": [
      "\u001b[1;31m---------------------------------------------------------------------------\u001b[0m",
      "\u001b[1;31mKeyboardInterrupt\u001b[0m                         Traceback (most recent call last)",
      "\u001b[1;32m~\\AppData\\Local\\Temp/ipykernel_14284/3605978073.py\u001b[0m in \u001b[0;36m<module>\u001b[1;34m\u001b[0m\n\u001b[1;32m----> 1\u001b[1;33m \u001b[0mprocess_video\u001b[0m\u001b[1;33m(\u001b[0m\u001b[1;34m\"./final\"\u001b[0m\u001b[1;33m,\u001b[0m \u001b[0maligned_mesh\u001b[0m\u001b[1;33m,\u001b[0m \u001b[0mframes\u001b[0m\u001b[1;33m,\u001b[0m \u001b[0mbasis_mesh\u001b[0m\u001b[1;33m,\u001b[0m \u001b[1;36m5500\u001b[0m\u001b[1;33m,\u001b[0m \u001b[1;36m0.025\u001b[0m\u001b[1;33m,\u001b[0m \u001b[1;36m2\u001b[0m\u001b[1;33m)\u001b[0m\u001b[1;33m;\u001b[0m\u001b[1;33m\u001b[0m\u001b[1;33m\u001b[0m\u001b[0m\n\u001b[0m",
      "\u001b[1;32mc:\\Users\\Sanskar\\Desktop\\Project AI\\training_loop.py\u001b[0m in \u001b[0;36mprocess_video\u001b[1;34m(file_path, blendshapes, frames, basis_mesh, epochs, learning_rate, sub_frame_limit)\u001b[0m\n\u001b[0;32m     73\u001b[0m   \u001b[1;32melse\u001b[0m\u001b[1;33m:\u001b[0m\u001b[1;33m\u001b[0m\u001b[1;33m\u001b[0m\u001b[0m\n\u001b[0;32m     74\u001b[0m     \u001b[1;32mfor\u001b[0m \u001b[0mi\u001b[0m \u001b[1;32min\u001b[0m \u001b[0mrange\u001b[0m\u001b[1;33m(\u001b[0m\u001b[0mint\u001b[0m\u001b[1;33m(\u001b[0m\u001b[0mlen\u001b[0m\u001b[1;33m(\u001b[0m\u001b[0mframes\u001b[0m\u001b[1;33m)\u001b[0m\u001b[1;33m/\u001b[0m\u001b[0mnumber_of_frames\u001b[0m\u001b[1;33m)\u001b[0m\u001b[1;33m)\u001b[0m\u001b[1;33m:\u001b[0m\u001b[1;33m\u001b[0m\u001b[1;33m\u001b[0m\u001b[0m\n\u001b[1;32m---> 75\u001b[1;33m       \u001b[0mprocess_frames\u001b[0m\u001b[1;33m(\u001b[0m\u001b[0mframes\u001b[0m\u001b[1;33m,\u001b[0m \u001b[0mframe_no\u001b[0m\u001b[1;33m,\u001b[0m \u001b[0mframe_no\u001b[0m\u001b[1;33m+\u001b[0m\u001b[0mnumber_of_frames\u001b[0m\u001b[1;33m,\u001b[0m \u001b[0mblendshapes\u001b[0m\u001b[1;33m,\u001b[0m \u001b[0mbasis_mesh\u001b[0m\u001b[1;33m,\u001b[0m \u001b[0mepochs\u001b[0m\u001b[1;33m,\u001b[0m \u001b[0mlearning_rate\u001b[0m\u001b[1;33m,\u001b[0m \u001b[0mfile_path\u001b[0m\u001b[1;33m)\u001b[0m\u001b[1;33m;\u001b[0m\u001b[1;33m\u001b[0m\u001b[1;33m\u001b[0m\u001b[0m\n\u001b[0m\u001b[0;32m     76\u001b[0m       \u001b[0mframe_no\u001b[0m\u001b[1;33m+=\u001b[0m\u001b[0mnumber_of_frames\u001b[0m\u001b[1;33m;\u001b[0m\u001b[1;33m\u001b[0m\u001b[1;33m\u001b[0m\u001b[0m\n\u001b[0;32m     77\u001b[0m \u001b[1;33m\u001b[0m\u001b[0m\n",
      "\u001b[1;32mc:\\Users\\Sanskar\\Desktop\\Project AI\\training_loop.py\u001b[0m in \u001b[0;36mprocess_frames\u001b[1;34m(frames, start, end, blendshapes, basis_mesh, epochs, learning_rate, file_path, GPU)\u001b[0m\n\u001b[0;32m     96\u001b[0m       \u001b[0moptimize_key_values\u001b[0m\u001b[1;33m(\u001b[0m\u001b[0mframes\u001b[0m\u001b[1;33m,\u001b[0m \u001b[0mstart\u001b[0m\u001b[1;33m,\u001b[0m \u001b[0mend\u001b[0m\u001b[1;33m,\u001b[0m \u001b[0mblendshapes\u001b[0m\u001b[1;33m,\u001b[0m \u001b[0mbasis_mesh\u001b[0m\u001b[1;33m,\u001b[0m \u001b[0mepochs\u001b[0m\u001b[1;33m,\u001b[0m \u001b[0mlearning_rate\u001b[0m\u001b[1;33m,\u001b[0m \u001b[0mfile_path\u001b[0m\u001b[1;33m)\u001b[0m\u001b[1;33m;\u001b[0m\u001b[1;33m\u001b[0m\u001b[1;33m\u001b[0m\u001b[0m\n\u001b[0;32m     97\u001b[0m   \u001b[1;32melse\u001b[0m\u001b[1;33m:\u001b[0m\u001b[1;33m\u001b[0m\u001b[1;33m\u001b[0m\u001b[0m\n\u001b[1;32m---> 98\u001b[1;33m     \u001b[0moptimize_key_values\u001b[0m\u001b[1;33m(\u001b[0m\u001b[0mframes\u001b[0m\u001b[1;33m,\u001b[0m \u001b[0mstart\u001b[0m\u001b[1;33m,\u001b[0m \u001b[0mend\u001b[0m\u001b[1;33m,\u001b[0m \u001b[0mblendshapes\u001b[0m\u001b[1;33m,\u001b[0m \u001b[0mbasis_mesh\u001b[0m\u001b[1;33m,\u001b[0m \u001b[0mepochs\u001b[0m\u001b[1;33m,\u001b[0m \u001b[0mlearning_rate\u001b[0m\u001b[1;33m,\u001b[0m \u001b[0mfile_path\u001b[0m\u001b[1;33m)\u001b[0m\u001b[1;33m;\u001b[0m\u001b[1;33m\u001b[0m\u001b[1;33m\u001b[0m\u001b[0m\n\u001b[0m\u001b[0;32m     99\u001b[0m \u001b[1;33m\u001b[0m\u001b[0m\n\u001b[0;32m    100\u001b[0m \u001b[1;32mdef\u001b[0m \u001b[0moptimize_key_values\u001b[0m\u001b[1;33m(\u001b[0m\u001b[0mframes\u001b[0m\u001b[1;33m,\u001b[0m \u001b[0mstart\u001b[0m\u001b[1;33m,\u001b[0m \u001b[0mend\u001b[0m\u001b[1;33m,\u001b[0m \u001b[0mblendshapes\u001b[0m\u001b[1;33m,\u001b[0m \u001b[0mbasis_mesh\u001b[0m\u001b[1;33m,\u001b[0m \u001b[0mepochs\u001b[0m\u001b[1;33m,\u001b[0m \u001b[0mlearning_rate\u001b[0m\u001b[1;33m,\u001b[0m \u001b[0mfile_path\u001b[0m\u001b[1;33m)\u001b[0m\u001b[1;33m:\u001b[0m\u001b[1;33m\u001b[0m\u001b[1;33m\u001b[0m\u001b[0m\n",
      "\u001b[1;32mc:\\Users\\Sanskar\\Desktop\\Project AI\\training_loop.py\u001b[0m in \u001b[0;36moptimize_key_values\u001b[1;34m(frames, start, end, blendshapes, basis_mesh, epochs, learning_rate, file_path)\u001b[0m\n\u001b[0;32m    121\u001b[0m           \u001b[1;32mif\u001b[0m \u001b[0mj\u001b[0m \u001b[1;32mis\u001b[0m \u001b[1;36m0\u001b[0m\u001b[1;33m:\u001b[0m\u001b[1;33m\u001b[0m\u001b[1;33m\u001b[0m\u001b[0m\n\u001b[0;32m    122\u001b[0m             \u001b[0mprint\u001b[0m\u001b[1;33m(\u001b[0m\u001b[1;34m\"Frame No: {} Initial Loss: {} Device: {}\"\u001b[0m\u001b[1;33m.\u001b[0m\u001b[0mformat\u001b[0m\u001b[1;33m(\u001b[0m\u001b[0mi\u001b[0m\u001b[1;33m,\u001b[0m \u001b[0mtf\u001b[0m\u001b[1;33m.\u001b[0m\u001b[0mreduce_sum\u001b[0m\u001b[1;33m(\u001b[0m\u001b[0my\u001b[0m\u001b[1;33m)\u001b[0m\u001b[1;33m,\u001b[0m \u001b[0my\u001b[0m\u001b[1;33m.\u001b[0m\u001b[0mdevice\u001b[0m\u001b[1;33m)\u001b[0m\u001b[1;33m)\u001b[0m\u001b[1;33m;\u001b[0m\u001b[1;33m\u001b[0m\u001b[1;33m\u001b[0m\u001b[0m\n\u001b[1;32m--> 123\u001b[1;33m         \u001b[0mgradients\u001b[0m \u001b[1;33m=\u001b[0m \u001b[0mtape\u001b[0m\u001b[1;33m.\u001b[0m\u001b[0mgradient\u001b[0m\u001b[1;33m(\u001b[0m\u001b[0my\u001b[0m\u001b[1;33m,\u001b[0m \u001b[0mkeys\u001b[0m\u001b[1;33m)\u001b[0m\u001b[1;33m;\u001b[0m\u001b[1;33m\u001b[0m\u001b[1;33m\u001b[0m\u001b[0m\n\u001b[0m\u001b[0;32m    124\u001b[0m         \u001b[0mkeys\u001b[0m \u001b[1;33m=\u001b[0m \u001b[0mkeys\u001b[0m \u001b[1;33m-\u001b[0m \u001b[0mlearning_rate\u001b[0m\u001b[1;33m*\u001b[0m\u001b[1;33m(\u001b[0m\u001b[0mgradients\u001b[0m\u001b[1;33m)\u001b[0m\u001b[1;33m;\u001b[0m\u001b[1;33m\u001b[0m\u001b[1;33m\u001b[0m\u001b[0m\n\u001b[0;32m    125\u001b[0m       \u001b[0mprint\u001b[0m\u001b[1;33m(\u001b[0m\u001b[1;34m\"Frame No: {} Final Loss: {} Device: {}\"\u001b[0m\u001b[1;33m.\u001b[0m\u001b[0mformat\u001b[0m\u001b[1;33m(\u001b[0m\u001b[0mi\u001b[0m\u001b[1;33m,\u001b[0m \u001b[0mtf\u001b[0m\u001b[1;33m.\u001b[0m\u001b[0mreduce_sum\u001b[0m\u001b[1;33m(\u001b[0m\u001b[0my\u001b[0m\u001b[1;33m)\u001b[0m\u001b[1;33m,\u001b[0m \u001b[0my\u001b[0m\u001b[1;33m.\u001b[0m\u001b[0mdevice\u001b[0m\u001b[1;33m)\u001b[0m\u001b[1;33m)\u001b[0m\u001b[1;33m;\u001b[0m\u001b[1;33m\u001b[0m\u001b[1;33m\u001b[0m\u001b[0m\n",
      "\u001b[1;32mc:\\Program Files\\Python37\\lib\\site-packages\\tensorflow\\python\\eager\\backprop.py\u001b[0m in \u001b[0;36mgradient\u001b[1;34m(self, target, sources, output_gradients, unconnected_gradients)\u001b[0m\n\u001b[0;32m   1085\u001b[0m         \u001b[0moutput_gradients\u001b[0m\u001b[1;33m=\u001b[0m\u001b[0moutput_gradients\u001b[0m\u001b[1;33m,\u001b[0m\u001b[1;33m\u001b[0m\u001b[1;33m\u001b[0m\u001b[0m\n\u001b[0;32m   1086\u001b[0m         \u001b[0msources_raw\u001b[0m\u001b[1;33m=\u001b[0m\u001b[0mflat_sources_raw\u001b[0m\u001b[1;33m,\u001b[0m\u001b[1;33m\u001b[0m\u001b[1;33m\u001b[0m\u001b[0m\n\u001b[1;32m-> 1087\u001b[1;33m         unconnected_gradients=unconnected_gradients)\n\u001b[0m\u001b[0;32m   1088\u001b[0m \u001b[1;33m\u001b[0m\u001b[0m\n\u001b[0;32m   1089\u001b[0m     \u001b[1;32mif\u001b[0m \u001b[1;32mnot\u001b[0m \u001b[0mself\u001b[0m\u001b[1;33m.\u001b[0m\u001b[0m_persistent\u001b[0m\u001b[1;33m:\u001b[0m\u001b[1;33m\u001b[0m\u001b[1;33m\u001b[0m\u001b[0m\n",
      "\u001b[1;32mc:\\Program Files\\Python37\\lib\\site-packages\\tensorflow\\python\\eager\\imperative_grad.py\u001b[0m in \u001b[0;36mimperative_grad\u001b[1;34m(tape, target, sources, output_gradients, sources_raw, unconnected_gradients)\u001b[0m\n\u001b[0;32m     71\u001b[0m       \u001b[0moutput_gradients\u001b[0m\u001b[1;33m,\u001b[0m\u001b[1;33m\u001b[0m\u001b[1;33m\u001b[0m\u001b[0m\n\u001b[0;32m     72\u001b[0m       \u001b[0msources_raw\u001b[0m\u001b[1;33m,\u001b[0m\u001b[1;33m\u001b[0m\u001b[1;33m\u001b[0m\u001b[0m\n\u001b[1;32m---> 73\u001b[1;33m       compat.as_str(unconnected_gradients.value))\n\u001b[0m",
      "\u001b[1;32mc:\\Program Files\\Python37\\lib\\site-packages\\tensorflow\\python\\eager\\backprop.py\u001b[0m in \u001b[0;36m_gradient_function\u001b[1;34m(op_name, attr_tuple, num_inputs, inputs, outputs, out_grads, skip_input_indices, forward_pass_name_scope)\u001b[0m\n\u001b[0;32m    154\u001b[0m       \u001b[0mgradient_name_scope\u001b[0m \u001b[1;33m+=\u001b[0m \u001b[0mforward_pass_name_scope\u001b[0m \u001b[1;33m+\u001b[0m \u001b[1;34m\"/\"\u001b[0m\u001b[1;33m\u001b[0m\u001b[1;33m\u001b[0m\u001b[0m\n\u001b[0;32m    155\u001b[0m     \u001b[1;32mwith\u001b[0m \u001b[0mops\u001b[0m\u001b[1;33m.\u001b[0m\u001b[0mname_scope\u001b[0m\u001b[1;33m(\u001b[0m\u001b[0mgradient_name_scope\u001b[0m\u001b[1;33m)\u001b[0m\u001b[1;33m:\u001b[0m\u001b[1;33m\u001b[0m\u001b[1;33m\u001b[0m\u001b[0m\n\u001b[1;32m--> 156\u001b[1;33m       \u001b[1;32mreturn\u001b[0m \u001b[0mgrad_fn\u001b[0m\u001b[1;33m(\u001b[0m\u001b[0mmock_op\u001b[0m\u001b[1;33m,\u001b[0m \u001b[1;33m*\u001b[0m\u001b[0mout_grads\u001b[0m\u001b[1;33m)\u001b[0m\u001b[1;33m\u001b[0m\u001b[1;33m\u001b[0m\u001b[0m\n\u001b[0m\u001b[0;32m    157\u001b[0m   \u001b[1;32melse\u001b[0m\u001b[1;33m:\u001b[0m\u001b[1;33m\u001b[0m\u001b[1;33m\u001b[0m\u001b[0m\n\u001b[0;32m    158\u001b[0m     \u001b[1;32mreturn\u001b[0m \u001b[0mgrad_fn\u001b[0m\u001b[1;33m(\u001b[0m\u001b[0mmock_op\u001b[0m\u001b[1;33m,\u001b[0m \u001b[1;33m*\u001b[0m\u001b[0mout_grads\u001b[0m\u001b[1;33m)\u001b[0m\u001b[1;33m\u001b[0m\u001b[1;33m\u001b[0m\u001b[0m\n",
      "\u001b[1;32mc:\\Program Files\\Python37\\lib\\site-packages\\tensorflow\\python\\ops\\math_grad.py\u001b[0m in \u001b[0;36m_SumGrad\u001b[1;34m(op, grad)\u001b[0m\n\u001b[0;32m    161\u001b[0m         \u001b[1;32melse\u001b[0m\u001b[1;33m:\u001b[0m\u001b[1;33m\u001b[0m\u001b[1;33m\u001b[0m\u001b[0m\n\u001b[0;32m    162\u001b[0m           \u001b[0mnew_shape\u001b[0m \u001b[1;33m=\u001b[0m \u001b[1;33m[\u001b[0m\u001b[1;36m1\u001b[0m\u001b[1;33m]\u001b[0m \u001b[1;33m*\u001b[0m \u001b[0mrank\u001b[0m\u001b[1;33m\u001b[0m\u001b[1;33m\u001b[0m\u001b[0m\n\u001b[1;32m--> 163\u001b[1;33m         \u001b[0mgrad\u001b[0m \u001b[1;33m=\u001b[0m \u001b[0marray_ops\u001b[0m\u001b[1;33m.\u001b[0m\u001b[0mreshape\u001b[0m\u001b[1;33m(\u001b[0m\u001b[0mgrad\u001b[0m\u001b[1;33m,\u001b[0m \u001b[0mnew_shape\u001b[0m\u001b[1;33m)\u001b[0m\u001b[1;33m\u001b[0m\u001b[1;33m\u001b[0m\u001b[0m\n\u001b[0m\u001b[0;32m    164\u001b[0m         \u001b[1;31m# If shape is not fully defined (but rank is), we use Shape.\u001b[0m\u001b[1;33m\u001b[0m\u001b[1;33m\u001b[0m\u001b[1;33m\u001b[0m\u001b[0m\n\u001b[0;32m    165\u001b[0m         \u001b[1;32mif\u001b[0m \u001b[1;32mNone\u001b[0m \u001b[1;32mnot\u001b[0m \u001b[1;32min\u001b[0m \u001b[0minput_0_shape\u001b[0m\u001b[1;33m:\u001b[0m\u001b[1;33m\u001b[0m\u001b[1;33m\u001b[0m\u001b[0m\n",
      "\u001b[1;32mc:\\Program Files\\Python37\\lib\\site-packages\\tensorflow\\python\\util\\traceback_utils.py\u001b[0m in \u001b[0;36merror_handler\u001b[1;34m(*args, **kwargs)\u001b[0m\n\u001b[0;32m    148\u001b[0m     \u001b[0mfiltered_tb\u001b[0m \u001b[1;33m=\u001b[0m \u001b[1;32mNone\u001b[0m\u001b[1;33m\u001b[0m\u001b[1;33m\u001b[0m\u001b[0m\n\u001b[0;32m    149\u001b[0m     \u001b[1;32mtry\u001b[0m\u001b[1;33m:\u001b[0m\u001b[1;33m\u001b[0m\u001b[1;33m\u001b[0m\u001b[0m\n\u001b[1;32m--> 150\u001b[1;33m       \u001b[1;32mreturn\u001b[0m \u001b[0mfn\u001b[0m\u001b[1;33m(\u001b[0m\u001b[1;33m*\u001b[0m\u001b[0margs\u001b[0m\u001b[1;33m,\u001b[0m \u001b[1;33m**\u001b[0m\u001b[0mkwargs\u001b[0m\u001b[1;33m)\u001b[0m\u001b[1;33m\u001b[0m\u001b[1;33m\u001b[0m\u001b[0m\n\u001b[0m\u001b[0;32m    151\u001b[0m     \u001b[1;32mexcept\u001b[0m \u001b[0mException\u001b[0m \u001b[1;32mas\u001b[0m \u001b[0me\u001b[0m\u001b[1;33m:\u001b[0m\u001b[1;33m\u001b[0m\u001b[1;33m\u001b[0m\u001b[0m\n\u001b[0;32m    152\u001b[0m       \u001b[0mfiltered_tb\u001b[0m \u001b[1;33m=\u001b[0m \u001b[0m_process_traceback_frames\u001b[0m\u001b[1;33m(\u001b[0m\u001b[0me\u001b[0m\u001b[1;33m.\u001b[0m\u001b[0m__traceback__\u001b[0m\u001b[1;33m)\u001b[0m\u001b[1;33m\u001b[0m\u001b[1;33m\u001b[0m\u001b[0m\n",
      "\u001b[1;32mc:\\Program Files\\Python37\\lib\\site-packages\\tensorflow\\python\\util\\dispatch.py\u001b[0m in \u001b[0;36mop_dispatch_handler\u001b[1;34m(*args, **kwargs)\u001b[0m\n\u001b[0;32m   1080\u001b[0m       \u001b[1;31m# Fallback dispatch system (dispatch v1):\u001b[0m\u001b[1;33m\u001b[0m\u001b[1;33m\u001b[0m\u001b[1;33m\u001b[0m\u001b[0m\n\u001b[0;32m   1081\u001b[0m       \u001b[1;32mtry\u001b[0m\u001b[1;33m:\u001b[0m\u001b[1;33m\u001b[0m\u001b[1;33m\u001b[0m\u001b[0m\n\u001b[1;32m-> 1082\u001b[1;33m         \u001b[1;32mreturn\u001b[0m \u001b[0mdispatch_target\u001b[0m\u001b[1;33m(\u001b[0m\u001b[1;33m*\u001b[0m\u001b[0margs\u001b[0m\u001b[1;33m,\u001b[0m \u001b[1;33m**\u001b[0m\u001b[0mkwargs\u001b[0m\u001b[1;33m)\u001b[0m\u001b[1;33m\u001b[0m\u001b[1;33m\u001b[0m\u001b[0m\n\u001b[0m\u001b[0;32m   1083\u001b[0m       \u001b[1;32mexcept\u001b[0m \u001b[1;33m(\u001b[0m\u001b[0mTypeError\u001b[0m\u001b[1;33m,\u001b[0m \u001b[0mValueError\u001b[0m\u001b[1;33m)\u001b[0m\u001b[1;33m:\u001b[0m\u001b[1;33m\u001b[0m\u001b[1;33m\u001b[0m\u001b[0m\n\u001b[0;32m   1084\u001b[0m         \u001b[1;31m# Note: convert_to_eager_tensor currently raises a ValueError, not a\u001b[0m\u001b[1;33m\u001b[0m\u001b[1;33m\u001b[0m\u001b[1;33m\u001b[0m\u001b[0m\n",
      "\u001b[1;32mc:\\Program Files\\Python37\\lib\\site-packages\\tensorflow\\python\\ops\\array_ops.py\u001b[0m in \u001b[0;36mreshape\u001b[1;34m(tensor, shape, name)\u001b[0m\n\u001b[0;32m    192\u001b[0m     \u001b[0mA\u001b[0m\u001b[0;31m \u001b[0m\u001b[0;31m`\u001b[0m\u001b[0mTensor\u001b[0m\u001b[0;31m`\u001b[0m\u001b[1;33m.\u001b[0m \u001b[0mHas\u001b[0m \u001b[0mthe\u001b[0m \u001b[0msame\u001b[0m \u001b[0mtype\u001b[0m \u001b[1;32mas\u001b[0m\u001b[0;31m \u001b[0m\u001b[0;31m`\u001b[0m\u001b[0mtensor\u001b[0m\u001b[0;31m`\u001b[0m\u001b[1;33m.\u001b[0m\u001b[1;33m\u001b[0m\u001b[1;33m\u001b[0m\u001b[0m\n\u001b[0;32m    193\u001b[0m   \"\"\"\n\u001b[1;32m--> 194\u001b[1;33m   \u001b[0mresult\u001b[0m \u001b[1;33m=\u001b[0m \u001b[0mgen_array_ops\u001b[0m\u001b[1;33m.\u001b[0m\u001b[0mreshape\u001b[0m\u001b[1;33m(\u001b[0m\u001b[0mtensor\u001b[0m\u001b[1;33m,\u001b[0m \u001b[0mshape\u001b[0m\u001b[1;33m,\u001b[0m \u001b[0mname\u001b[0m\u001b[1;33m)\u001b[0m\u001b[1;33m\u001b[0m\u001b[1;33m\u001b[0m\u001b[0m\n\u001b[0m\u001b[0;32m    195\u001b[0m   \u001b[0mtensor_util\u001b[0m\u001b[1;33m.\u001b[0m\u001b[0mmaybe_set_static_shape\u001b[0m\u001b[1;33m(\u001b[0m\u001b[0mresult\u001b[0m\u001b[1;33m,\u001b[0m \u001b[0mshape\u001b[0m\u001b[1;33m)\u001b[0m\u001b[1;33m\u001b[0m\u001b[1;33m\u001b[0m\u001b[0m\n\u001b[0;32m    196\u001b[0m   \u001b[1;32mreturn\u001b[0m \u001b[0mresult\u001b[0m\u001b[1;33m\u001b[0m\u001b[1;33m\u001b[0m\u001b[0m\n",
      "\u001b[1;32mc:\\Program Files\\Python37\\lib\\site-packages\\tensorflow\\python\\ops\\gen_array_ops.py\u001b[0m in \u001b[0;36mreshape\u001b[1;34m(tensor, shape, name)\u001b[0m\n\u001b[0;32m   8531\u001b[0m     \u001b[1;32mtry\u001b[0m\u001b[1;33m:\u001b[0m\u001b[1;33m\u001b[0m\u001b[1;33m\u001b[0m\u001b[0m\n\u001b[0;32m   8532\u001b[0m       _result = pywrap_tfe.TFE_Py_FastPathExecute(\n\u001b[1;32m-> 8533\u001b[1;33m         _ctx, \"Reshape\", name, tensor, shape)\n\u001b[0m\u001b[0;32m   8534\u001b[0m       \u001b[1;32mreturn\u001b[0m \u001b[0m_result\u001b[0m\u001b[1;33m\u001b[0m\u001b[1;33m\u001b[0m\u001b[0m\n\u001b[0;32m   8535\u001b[0m     \u001b[1;32mexcept\u001b[0m \u001b[0m_core\u001b[0m\u001b[1;33m.\u001b[0m\u001b[0m_NotOkStatusException\u001b[0m \u001b[1;32mas\u001b[0m \u001b[0me\u001b[0m\u001b[1;33m:\u001b[0m\u001b[1;33m\u001b[0m\u001b[1;33m\u001b[0m\u001b[0m\n",
      "\u001b[1;31mKeyboardInterrupt\u001b[0m: "
     ]
    }
   ],
   "source": [
    "dir_to_save_opt_vals = \"./final\";\n",
    "os.mkdir(dir_to_save_opt_vals);\n",
    "process_video(dir_to_save_opt_vals, aligned_mesh, frames, basis_mesh, 5500, 0.025, 2);"
   ]
  }
 ],
 "metadata": {
  "interpreter": {
   "hash": "5109d816b82be14675a6b11f8e0f0d2e80f029176ed3710d54e125caa8520dfd"
  },
  "kernelspec": {
   "display_name": "Python 3.7.7 64-bit",
   "language": "python",
   "name": "python3"
  },
  "language_info": {
   "codemirror_mode": {
    "name": "ipython",
    "version": 3
   },
   "file_extension": ".py",
   "mimetype": "text/x-python",
   "name": "python",
   "nbconvert_exporter": "python",
   "pygments_lexer": "ipython3",
   "version": "3.7.7"
  },
  "orig_nbformat": 4
 },
 "nbformat": 4,
 "nbformat_minor": 2
}
